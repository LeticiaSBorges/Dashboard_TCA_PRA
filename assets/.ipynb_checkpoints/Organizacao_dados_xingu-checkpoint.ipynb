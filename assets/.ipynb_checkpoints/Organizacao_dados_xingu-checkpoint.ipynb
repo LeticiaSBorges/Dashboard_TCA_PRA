{
 "cells": [
  {
   "cell_type": "markdown",
   "id": "58bcc263",
   "metadata": {},
   "source": [
    "### TCAs do BAIXO AMAZONAS "
   ]
  },
  {
   "cell_type": "code",
   "execution_count": 1,
   "id": "1f21c534",
   "metadata": {},
   "outputs": [],
   "source": [
    "import pandas as pd"
   ]
  },
  {
   "cell_type": "markdown",
   "id": "cfb289bd",
   "metadata": {},
   "source": [
    "Solicitação da base de dados da região Baixo Amazonas: "
   ]
  },
  {
   "cell_type": "code",
   "execution_count": 2,
   "id": "e485ae38",
   "metadata": {},
   "outputs": [],
   "source": [
    "dados_xingu = pd.read_excel('Dados_XINGU.xlsx')\n",
    "#display(dados_xingu)"
   ]
  },
  {
   "cell_type": "markdown",
   "id": "7ab7fdbd",
   "metadata": {},
   "source": [
    "Criação dos arquivo de numeros de TCAs por ano do Baixo Amazonas:"
   ]
  },
  {
   "cell_type": "code",
   "execution_count": 8,
   "id": "4b2128c6",
   "metadata": {},
   "outputs": [],
   "source": [
    "ano_tca_tapajos = dados_tapajos.groupby(['Ano_Termo_Compromisso']).size()\n",
    "#display(ano_tca_tapajos)\n",
    "ano_tca_tapajos.to_excel (r'C:\\Users\\letic\\Documents\\Python Scripts\\PRA TCA\\Resultados\\TAPAJÓS\\Ano_Termo_Comp_tapajos.xlsx', \n",
    "                        index = True, header=True)"
   ]
  },
  {
   "cell_type": "markdown",
   "id": "bd88173a",
   "metadata": {},
   "source": [
    "Agrupamento dos dados por número de licenciamentos por municípios:"
   ]
  },
  {
   "cell_type": "code",
   "execution_count": 4,
   "id": "1e1d3456",
   "metadata": {},
   "outputs": [
    {
     "name": "stdout",
     "output_type": "stream",
     "text": [
      "                                 n° de Imovéis com Licencimento\n",
      "MUNICIPIO      N_LICENCIAMENTOS                                \n",
      "Aveiro         0                                              1\n",
      "               1                                              1\n",
      "Itaituba       1                                              8\n",
      "               0                                              2\n",
      "Novo Progresso 1                                             21\n",
      "               0                                              4\n",
      "Rurópolis      1                                              4\n",
      "               0                                              1\n"
     ]
    }
   ],
   "source": [
    "Munic_tapajos_NLic = dados_tapajos[['MUNICIPIO','N_LICENCIAMENTOS']].value_counts()\n",
    "Munic_tapajos_NLic = pd.DataFrame(Munic_tapajos_NLic, index = None)\n",
    "Munic_tapajos_NLic.sort_values(by='MUNICIPIO', ascending=True)\n",
    "Munic_tapajos_NLic.set_axis(['n° de Imovéis com Licencimento'], axis='columns', inplace=True)\n",
    "\n",
    "#Organizando o DataFrame por ordem alfabetica a coluna das regiões de integração: \n",
    "print(Munic_tapajos_NLic.sort_values(by='MUNICIPIO', ascending=True))\n",
    "\n",
    "#Exportando para excel o DataFrame criado:\n",
    "Munic_tapajos_NLic.to_excel (r'C:\\Users\\letic\\Documents\\Python Scripts\\PRA TCA\\Munic_tapajos_NLic.xlsx', \n",
    "                            index = True, header=True)"
   ]
  },
  {
   "cell_type": "code",
   "execution_count": 6,
   "id": "8facf4df",
   "metadata": {},
   "outputs": [
    {
     "name": "stdout",
     "output_type": "stream",
     "text": [
      "        MUNICIPIO  N_LICENCIAMENTOS  n° de Imovéis com Licencimento\n",
      "5          Aveiro                 0                               1\n",
      "6          Aveiro                 1                               1\n",
      "1        Itaituba                 1                               8\n",
      "4        Itaituba                 0                               2\n",
      "0  Novo Progresso                 1                              21\n",
      "2  Novo Progresso                 0                               4\n",
      "3       Rurópolis                 1                               4\n",
      "7       Rurópolis                 0                               1\n"
     ]
    }
   ],
   "source": [
    "tapajos_NLic = pd.read_excel('Munic_tapajos_NLic.xlsx')\n",
    "tapajos_NLic = tapajos_NLic.fillna('Aveiro')\n",
    "#print(tapajos_NLic.sort_values(by=['MUNICIPIO']))"
   ]
  },
  {
   "cell_type": "code",
   "execution_count": 10,
   "id": "716ab60b",
   "metadata": {},
   "outputs": [],
   "source": [
    "nImoveisLic_tapajos = tapajos_NLic.loc[tapajos_NLic['N_LICENCIAMENTOS']==1].sort_values(by=['MUNICIPIO'])\n",
    "nImoveisLic_tapajos.drop(['N_LICENCIAMENTOS'], axis=1, inplace=True)\n",
    "#print(nImoveisLic_tapajos)\n",
    "\n",
    "nImoveisLic_tapajos.to_excel (r'C:\\Users\\letic\\Documents\\Python Scripts\\PRA TCA\\nImoveisLic_tapajos.xlsx', \n",
    "                            index = False, header=True)\n"
   ]
  },
  {
   "cell_type": "markdown",
   "id": "3604e177",
   "metadata": {},
   "source": [
    "Para saber os TCAs é necessário:"
   ]
  },
  {
   "cell_type": "code",
   "execution_count": 11,
   "id": "58df8dd4",
   "metadata": {
    "scrolled": true
   },
   "outputs": [
    {
     "name": "stdout",
     "output_type": "stream",
     "text": [
      "['Aveiro', 'Itaituba', 'Novo Progresso', 'Rurópolis']\n",
      "<class 'list'>\n",
      "        MUNICIPIO  N_LICENCIAMENTOS  n° de Imovéis com Licencimento\n",
      "0          Aveiro                 0                               1\n",
      "1             NaN                 1                               2\n",
      "2        Itaituba                 0                               2\n",
      "3             NaN                 1                              10\n",
      "4  Novo Progresso                 0                               4\n",
      "5             NaN                 1                              25\n",
      "6       Rurópolis                 0                               1\n",
      "7             NaN                 1                               5\n"
     ]
    },
    {
     "name": "stderr",
     "output_type": "stream",
     "text": [
      "C:\\Users\\letic\\AppData\\Local\\Temp\\ipykernel_10468\\871263548.py:17: SettingWithCopyWarning: \n",
      "A value is trying to be set on a copy of a slice from a DataFrame\n",
      "\n",
      "See the caveats in the documentation: https://pandas.pydata.org/pandas-docs/stable/user_guide/indexing.html#returning-a-view-versus-a-copy\n",
      "  tapajos_TCA_N.drop(['MUNICIPIO','N_LICENCIAMENTOS'], axis=1, inplace=True)\n",
      "C:\\Users\\letic\\AppData\\Local\\Temp\\ipykernel_10468\\871263548.py:18: SettingWithCopyWarning: \n",
      "A value is trying to be set on a copy of a slice from a DataFrame.\n",
      "Try using .loc[row_indexer,col_indexer] = value instead\n",
      "\n",
      "See the caveats in the documentation: https://pandas.pydata.org/pandas-docs/stable/user_guide/indexing.html#returning-a-view-versus-a-copy\n",
      "  tapajos_TCA_N['MUNICIPIO_tca'] = Munc_tapajos\n"
     ]
    },
    {
     "data": {
      "text/html": [
       "<div>\n",
       "<style scoped>\n",
       "    .dataframe tbody tr th:only-of-type {\n",
       "        vertical-align: middle;\n",
       "    }\n",
       "\n",
       "    .dataframe tbody tr th {\n",
       "        vertical-align: top;\n",
       "    }\n",
       "\n",
       "    .dataframe thead th {\n",
       "        text-align: right;\n",
       "    }\n",
       "</style>\n",
       "<table border=\"1\" class=\"dataframe\">\n",
       "  <thead>\n",
       "    <tr style=\"text-align: right;\">\n",
       "      <th></th>\n",
       "      <th>MUNICIPIO</th>\n",
       "      <th>TCA</th>\n",
       "    </tr>\n",
       "  </thead>\n",
       "  <tbody>\n",
       "    <tr>\n",
       "      <th>1</th>\n",
       "      <td>Aveiro</td>\n",
       "      <td>2</td>\n",
       "    </tr>\n",
       "    <tr>\n",
       "      <th>3</th>\n",
       "      <td>Itaituba</td>\n",
       "      <td>10</td>\n",
       "    </tr>\n",
       "    <tr>\n",
       "      <th>5</th>\n",
       "      <td>Novo Progresso</td>\n",
       "      <td>25</td>\n",
       "    </tr>\n",
       "    <tr>\n",
       "      <th>7</th>\n",
       "      <td>Rurópolis</td>\n",
       "      <td>5</td>\n",
       "    </tr>\n",
       "  </tbody>\n",
       "</table>\n",
       "</div>"
      ],
      "text/plain": [
       "        MUNICIPIO  TCA\n",
       "1          Aveiro    2\n",
       "3        Itaituba   10\n",
       "5  Novo Progresso   25\n",
       "7       Rurópolis    5"
      ]
     },
     "metadata": {},
     "output_type": "display_data"
    }
   ],
   "source": [
    "tapajos_TCA = tapajos_NLic.groupby(by=['MUNICIPIO','N_LICENCIAMENTOS']).sum().groupby(level=[0]).cumsum()\n",
    "#print(tabTCA)\n",
    "\n",
    "\n",
    "Munc_tapajos = tapajos_NLic.loc[tapajos_NLic['N_LICENCIAMENTOS']==1, ['MUNICIPIO']]\n",
    "Munc_tapajos = Munc_tapajos.sort_values(by=['MUNICIPIO'])\n",
    "Munc_tapajos = Munc_tapajos['MUNICIPIO'].tolist()\n",
    "print(Munc_tapajos)\n",
    "print(type(Munc_tapajos))\n",
    "\n",
    "tapajos_TCA.to_excel (r'C:\\Users\\letic\\Documents\\Python Scripts\\PRA TCA\\tapajos_TCA.xlsx', index = True, header=True)\n",
    "\n",
    "tapajos_TCA = pd.read_excel('tapajos_TCA.xlsx')\n",
    "print(tapajos_TCA)\n",
    "\n",
    "tapajos_TCA_N = tapajos_TCA.loc[tapajos_TCA['N_LICENCIAMENTOS']==1]\n",
    "tapajos_TCA_N.drop(['MUNICIPIO','N_LICENCIAMENTOS'], axis=1, inplace=True)\n",
    "tapajos_TCA_N['MUNICIPIO_tca'] = Munc_tapajos\n",
    "tapajos_TCA_N.set_axis(['TCA', 'MUNICIPIO'], axis='columns', inplace=True)\n",
    "tapajos_TCA_N = tapajos_TCA_N[['MUNICIPIO','TCA']]\n",
    "tapajos_TCA_N.to_excel (r'C:\\Users\\letic\\Documents\\Python Scripts\\PRA TCA\\tapajos_TCA_N.xlsx', index = False, header=True)\n",
    "display(tapajos_TCA_N)"
   ]
  },
  {
   "cell_type": "markdown",
   "id": "581fc286",
   "metadata": {},
   "source": [
    "Unir as tabelas"
   ]
  },
  {
   "cell_type": "code",
   "execution_count": 12,
   "id": "b60eba76",
   "metadata": {},
   "outputs": [
    {
     "data": {
      "text/html": [
       "<div>\n",
       "<style scoped>\n",
       "    .dataframe tbody tr th:only-of-type {\n",
       "        vertical-align: middle;\n",
       "    }\n",
       "\n",
       "    .dataframe tbody tr th {\n",
       "        vertical-align: top;\n",
       "    }\n",
       "\n",
       "    .dataframe thead th {\n",
       "        text-align: right;\n",
       "    }\n",
       "</style>\n",
       "<table border=\"1\" class=\"dataframe\">\n",
       "  <thead>\n",
       "    <tr style=\"text-align: right;\">\n",
       "      <th></th>\n",
       "      <th>MUNICIPIO</th>\n",
       "      <th>n° de Imovéis com Licencimento</th>\n",
       "      <th>TCA</th>\n",
       "    </tr>\n",
       "  </thead>\n",
       "  <tbody>\n",
       "    <tr>\n",
       "      <th>0</th>\n",
       "      <td>Aveiro</td>\n",
       "      <td>1</td>\n",
       "      <td>2</td>\n",
       "    </tr>\n",
       "    <tr>\n",
       "      <th>1</th>\n",
       "      <td>Itaituba</td>\n",
       "      <td>8</td>\n",
       "      <td>10</td>\n",
       "    </tr>\n",
       "    <tr>\n",
       "      <th>2</th>\n",
       "      <td>Novo Progresso</td>\n",
       "      <td>21</td>\n",
       "      <td>25</td>\n",
       "    </tr>\n",
       "    <tr>\n",
       "      <th>3</th>\n",
       "      <td>Rurópolis</td>\n",
       "      <td>4</td>\n",
       "      <td>5</td>\n",
       "    </tr>\n",
       "  </tbody>\n",
       "</table>\n",
       "</div>"
      ],
      "text/plain": [
       "        MUNICIPIO  n° de Imovéis com Licencimento  TCA\n",
       "0          Aveiro                               1    2\n",
       "1        Itaituba                               8   10\n",
       "2  Novo Progresso                              21   25\n",
       "3       Rurópolis                               4    5"
      ]
     },
     "metadata": {},
     "output_type": "display_data"
    }
   ],
   "source": [
    "tapajos_TCA_N = pd.read_excel('tapajos_TCA_N.xlsx')\n",
    "N_Imoveis_Licenc_tapajos = pd.read_excel('nImoveisLic_tapajos.xlsx')\n",
    "\n",
    "tab_dinamica_tapajos = N_Imoveis_Licenc_tapajos.merge(tapajos_TCA_N, on = \"MUNICIPIO\", how = \"left\")\n",
    "tab_dinamica_tapajos = tab_dinamica_tapajos.sort_values(by=['MUNICIPIO'])\n",
    "display(tab_dinamica_tapajos)\n",
    "\n",
    "tab_dinamica_tapajos.to_excel (r'C:\\Users\\letic\\Documents\\Python Scripts\\PRA TCA\\Resultados\\TAPAJÓS\\tab_dinamica_tapajos.xlsx', \n",
    "                             index = False, header=True)"
   ]
  },
  {
   "cell_type": "markdown",
   "id": "f2bd49ac",
   "metadata": {},
   "source": [
    "Para o Diretorio não ficar poluido, foi excluido todos os arquivos .xlsx que não são são mais necesários."
   ]
  },
  {
   "cell_type": "code",
   "execution_count": 13,
   "id": "cbf70428",
   "metadata": {},
   "outputs": [],
   "source": [
    "import os\n",
    "\n",
    "if os.path.exists(\"Munic_tapajos_NLic.xlsx\"):\n",
    "  os.remove(\"Munic_tapajos_NLic.xlsx\")\n",
    "\n",
    "if os.path.exists(\"nImoveisLic_tapajos.xlsx\"):\n",
    "  os.remove(\"nImoveisLic_tapajos.xlsx\")\n",
    "\n",
    "if os.path.exists(\"tapajos_TCA.xlsx\"):\n",
    "  os.remove(\"tapajos_TCA.xlsx\")\n",
    "\n",
    "if os.path.exists(\"tapajos_TCA_N.xlsx\"):\n",
    "  os.remove(\"tapajos_TCA_N.xlsx\")"
   ]
  },
  {
   "cell_type": "code",
   "execution_count": null,
   "id": "ea71cb14",
   "metadata": {},
   "outputs": [],
   "source": []
  }
 ],
 "metadata": {
  "kernelspec": {
   "display_name": "Python 3 (ipykernel)",
   "language": "python",
   "name": "python3"
  },
  "language_info": {
   "codemirror_mode": {
    "name": "ipython",
    "version": 3
   },
   "file_extension": ".py",
   "mimetype": "text/x-python",
   "name": "python",
   "nbconvert_exporter": "python",
   "pygments_lexer": "ipython3",
   "version": "3.9.12"
  }
 },
 "nbformat": 4,
 "nbformat_minor": 5
}
