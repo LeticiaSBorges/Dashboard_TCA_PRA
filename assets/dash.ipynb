{
 "cells": [
  {
   "cell_type": "code",
   "execution_count": 14,
   "id": "8398365b",
   "metadata": {},
   "outputs": [],
   "source": [
    "import dash\n",
    "import dash_core_components as dcc\n",
    "import dash_html_components as html\n",
    "from dash.dependencies import Input, Output\n",
    "import dash_bootstrap_components as dbc\n",
    "\n",
    "import plotly.express as px\n",
    "import plotly.graph_objects as go\n",
    "\n",
    "import numpy as np\n",
    "import pandas as pd\n",
    "import json"
   ]
  },
  {
   "cell_type": "code",
   "execution_count": 20,
   "id": "ee565f50",
   "metadata": {},
   "outputs": [
    {
     "data": {
      "text/plain": [
       "{'Regiões_d': 'Região Araguaia'}"
      ]
     },
     "execution_count": 20,
     "metadata": {},
     "output_type": "execute_result"
    }
   ],
   "source": [
    "para_reg = json.load(open(\"Arquivos_geojson/REGIOES_INTEGRACAO.geojson\",\"r\",encoding='utf-8'))\n",
    "#para_reg.keys()\n",
    "#type(para_reg[\"features\"][0])\n",
    "#para_reg[\"features\"][0].keys()\n",
    "#para_reg[\"features\"][0]['properties']\n",
    "\n",
    "dados_df = pd.read_excel('Arquivos_geojson/REGIOES_INTEGRACAO.xlsx')\n",
    "#display(dados_df)\n"
   ]
  },
  {
   "cell_type": "code",
   "execution_count": null,
   "id": "a2f11db7",
   "metadata": {},
   "outputs": [],
   "source": [
    "para_reg = para_reg[para_reg[\"data\"]==\"2020-05-13\"]"
   ]
  },
  {
   "cell_type": "code",
   "execution_count": null,
   "id": "a9183f35",
   "metadata": {},
   "outputs": [],
   "source": [
    "app = dash.Dash(__name__, external_stylesheets=[dbc.themes.CYBORG])\n",
    "\n",
    "fig = px.choropleth_mapbox(dados_df, locations='Regiões de Integração',\n",
    "                          color = 'Regiões_d', \n",
    "                          center={\"lat\":-4.613660, \"lon\":-52.870396}, \n",
    "                          geojson = para_reg,\n",
    "                          color_continuous_scale =\"Redor\", opacity =0.4,\n",
    "                          hover_data={\"Regiões de Integração\":True})\n"
   ]
  }
 ],
 "metadata": {
  "kernelspec": {
   "display_name": "Python 3 (ipykernel)",
   "language": "python",
   "name": "python3"
  },
  "language_info": {
   "codemirror_mode": {
    "name": "ipython",
    "version": 3
   },
   "file_extension": ".py",
   "mimetype": "text/x-python",
   "name": "python",
   "nbconvert_exporter": "python",
   "pygments_lexer": "ipython3",
   "version": "3.9.12"
  }
 },
 "nbformat": 4,
 "nbformat_minor": 5
}
