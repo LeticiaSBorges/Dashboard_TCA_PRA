{
 "cells": [
  {
   "cell_type": "markdown",
   "id": "58bcc263",
   "metadata": {},
   "source": [
    "### TCAs do BAIXO AMAZONAS "
   ]
  },
  {
   "cell_type": "code",
   "execution_count": 1,
   "id": "1f21c534",
   "metadata": {},
   "outputs": [],
   "source": [
    "import pandas as pd"
   ]
  },
  {
   "cell_type": "markdown",
   "id": "cfb289bd",
   "metadata": {},
   "source": [
    "Solicitação da base de dados da região Baixo Amazonas: "
   ]
  },
  {
   "cell_type": "code",
   "execution_count": 13,
   "id": "e485ae38",
   "metadata": {},
   "outputs": [],
   "source": [
    "dados_BAmaz = pd.read_excel('Dados_BAIXO_AMAZONAS.xlsx')\n",
    "#display(dados_BAmaz)"
   ]
  },
  {
   "cell_type": "markdown",
   "id": "7ab7fdbd",
   "metadata": {},
   "source": [
    "Criação dos arquivo de numeros de TCAs por ano do Baixo Amazonas:"
   ]
  },
  {
   "cell_type": "code",
   "execution_count": 15,
   "id": "4b2128c6",
   "metadata": {},
   "outputs": [],
   "source": [
    "ano_tca_BAmaz = dados_BAmaz.groupby(['Ano_Termo_Compromisso']).size()\n",
    "#display(ano_tca_BAmaz)\n",
    "ano_tca_BAmaz.to_excel (r'C:\\Users\\letic\\Documents\\Python Scripts\\PRA TCA\\Resultados\\Baixo_Amazonas\\Ano_Termo_Comp_BAmaz.xlsx', \n",
    "                        index = True, header=True)"
   ]
  },
  {
   "cell_type": "markdown",
   "id": "bd88173a",
   "metadata": {},
   "source": [
    "Agrupamento dos dados por número de licenciamentos por municípios:"
   ]
  },
  {
   "cell_type": "code",
   "execution_count": 16,
   "id": "1e1d3456",
   "metadata": {},
   "outputs": [
    {
     "name": "stdout",
     "output_type": "stream",
     "text": [
      "                                   n° de Imovéis com Licencimento\n",
      "MUNICIPIO        N_LICENCIAMENTOS                                \n",
      "Alenquer         1                                              3\n",
      "                 0                                              2\n",
      "Almeirim         1                                              7\n",
      "                 0                                              1\n",
      "Belterra         1                                              1\n",
      "Juruti           1                                              1\n",
      "Mojuí dos Campos 1                                             14\n",
      "Prainha          0                                              1\n",
      "Santarém         1                                             10\n",
      "                 0                                              1\n",
      "Óbidos           1                                              1\n"
     ]
    }
   ],
   "source": [
    "Munic_BAmaz_NLic = dados_BAmaz[['MUNICIPIO','N_LICENCIAMENTOS']].value_counts()\n",
    "Munic_BAmaz_NLic = pd.DataFrame(Munic_BAmaz_NLic, index = None)\n",
    "Munic_BAmaz_NLic.sort_values(by='MUNICIPIO', ascending=True)\n",
    "Munic_BAmaz_NLic.set_axis(['n° de Imovéis com Licencimento'], axis='columns', inplace=True)\n",
    "\n",
    "#Organizando o DataFrame por ordem alfabetica a coluna das regiões de integração: \n",
    "print(Munic_BAmaz_NLic.sort_values(by='MUNICIPIO', ascending=True))\n",
    "\n",
    "#Exportando para excel o DataFrame criado:\n",
    "Munic_BAmaz_NLic.to_excel (r'C:\\Users\\letic\\Documents\\Python Scripts\\PRA TCA\\Munic_BAmaz_NLic.xlsx', index = True, header=True)"
   ]
  },
  {
   "cell_type": "code",
   "execution_count": 17,
   "id": "8facf4df",
   "metadata": {},
   "outputs": [],
   "source": [
    "BAmaz_NLic = pd.read_excel('Munic_BAmaz_NLic.xlsx')\n",
    "BAmaz_NLic = BAmaz_NLic.fillna('Alenquer')\n",
    "#print(BAmaz_NLic.sort_values(by=['MUNICIPIO']))"
   ]
  },
  {
   "cell_type": "code",
   "execution_count": 18,
   "id": "716ab60b",
   "metadata": {},
   "outputs": [
    {
     "name": "stderr",
     "output_type": "stream",
     "text": [
      "C:\\Users\\letic\\AppData\\Local\\Temp\\ipykernel_6256\\1283921250.py:3: SettingWithCopyWarning: \n",
      "A value is trying to be set on a copy of a slice from a DataFrame\n",
      "\n",
      "See the caveats in the documentation: https://pandas.pydata.org/pandas-docs/stable/user_guide/indexing.html#returning-a-view-versus-a-copy\n",
      "  nImoveisLic_BAmaz.drop(['N_LICENCIAMENTOS'], axis=1, inplace=True)\n"
     ]
    }
   ],
   "source": [
    "nImoveisLic_BAmaz = BAmaz_NLic.loc[BAmaz_NLic['N_LICENCIAMENTOS']==1]\n",
    "\n",
    "nImoveisLic_BAmaz.drop(['N_LICENCIAMENTOS'], axis=1, inplace=True)\n",
    "\n",
    "#print(nImoveisLic_BAmaz.sort_values(by=['MUNICIPIO']))\n",
    "\n",
    "nImoveisLic_BAmaz.to_excel (r'C:\\Users\\letic\\Documents\\Python Scripts\\PRA TCA\\N_Imoveis_Licenc_BAmaz.xlsx', \n",
    "                            index = False, header=True)\n"
   ]
  },
  {
   "cell_type": "markdown",
   "id": "3604e177",
   "metadata": {},
   "source": [
    "Para saber os TCAs é necessário:"
   ]
  },
  {
   "cell_type": "code",
   "execution_count": 19,
   "id": "58df8dd4",
   "metadata": {
    "scrolled": true
   },
   "outputs": [
    {
     "name": "stderr",
     "output_type": "stream",
     "text": [
      "C:\\Users\\letic\\AppData\\Local\\Temp\\ipykernel_6256\\1740397020.py:16: SettingWithCopyWarning: \n",
      "A value is trying to be set on a copy of a slice from a DataFrame\n",
      "\n",
      "See the caveats in the documentation: https://pandas.pydata.org/pandas-docs/stable/user_guide/indexing.html#returning-a-view-versus-a-copy\n",
      "  BAmaz_TCA_N.drop(['MUNICIPIO','N_LICENCIAMENTOS'], axis=1, inplace=True)\n",
      "C:\\Users\\letic\\AppData\\Local\\Temp\\ipykernel_6256\\1740397020.py:17: SettingWithCopyWarning: \n",
      "A value is trying to be set on a copy of a slice from a DataFrame.\n",
      "Try using .loc[row_indexer,col_indexer] = value instead\n",
      "\n",
      "See the caveats in the documentation: https://pandas.pydata.org/pandas-docs/stable/user_guide/indexing.html#returning-a-view-versus-a-copy\n",
      "  BAmaz_TCA_N['MUNICIPIO_tca'] = Munc_BAmaz\n"
     ]
    },
    {
     "data": {
      "text/html": [
       "<div>\n",
       "<style scoped>\n",
       "    .dataframe tbody tr th:only-of-type {\n",
       "        vertical-align: middle;\n",
       "    }\n",
       "\n",
       "    .dataframe tbody tr th {\n",
       "        vertical-align: top;\n",
       "    }\n",
       "\n",
       "    .dataframe thead th {\n",
       "        text-align: right;\n",
       "    }\n",
       "</style>\n",
       "<table border=\"1\" class=\"dataframe\">\n",
       "  <thead>\n",
       "    <tr style=\"text-align: right;\">\n",
       "      <th></th>\n",
       "      <th>MUNICIPIO</th>\n",
       "      <th>TCA</th>\n",
       "    </tr>\n",
       "  </thead>\n",
       "  <tbody>\n",
       "    <tr>\n",
       "      <th>1</th>\n",
       "      <td>Alenquer</td>\n",
       "      <td>5</td>\n",
       "    </tr>\n",
       "    <tr>\n",
       "      <th>3</th>\n",
       "      <td>Almeirim</td>\n",
       "      <td>8</td>\n",
       "    </tr>\n",
       "    <tr>\n",
       "      <th>4</th>\n",
       "      <td>Belterra</td>\n",
       "      <td>1</td>\n",
       "    </tr>\n",
       "    <tr>\n",
       "      <th>5</th>\n",
       "      <td>Juruti</td>\n",
       "      <td>1</td>\n",
       "    </tr>\n",
       "    <tr>\n",
       "      <th>6</th>\n",
       "      <td>Mojuí dos Campos</td>\n",
       "      <td>14</td>\n",
       "    </tr>\n",
       "    <tr>\n",
       "      <th>9</th>\n",
       "      <td>Santarém</td>\n",
       "      <td>11</td>\n",
       "    </tr>\n",
       "    <tr>\n",
       "      <th>10</th>\n",
       "      <td>Óbidos</td>\n",
       "      <td>1</td>\n",
       "    </tr>\n",
       "  </tbody>\n",
       "</table>\n",
       "</div>"
      ],
      "text/plain": [
       "           MUNICIPIO  TCA\n",
       "1           Alenquer    5\n",
       "3           Almeirim    8\n",
       "4           Belterra    1\n",
       "5             Juruti    1\n",
       "6   Mojuí dos Campos   14\n",
       "9           Santarém   11\n",
       "10            Óbidos    1"
      ]
     },
     "metadata": {},
     "output_type": "display_data"
    }
   ],
   "source": [
    "BAmaz_TCA = BAmaz_NLic.groupby(by=['MUNICIPIO','N_LICENCIAMENTOS']).sum().groupby(level=[0]).cumsum()\n",
    "#print(tabTCA)\n",
    "\n",
    "\n",
    "Munc_BAmaz = BAmaz_NLic.loc[BAmaz_NLic['N_LICENCIAMENTOS']==1, ['MUNICIPIO']]\n",
    "Munc_BAmaz = Munc_BAmaz.sort_values(by=['MUNICIPIO'])\n",
    "Munc_BAmaz = Munc_BAmaz ['MUNICIPIO'].tolist()\n",
    "#print(type(Munc_BAmaz))\n",
    "\n",
    "BAmaz_TCA.to_excel (r'C:\\Users\\letic\\Documents\\Python Scripts\\PRA TCA\\BAmaz_TCA.xlsx', index = True, header=True)\n",
    "\n",
    "BAmaz_TCA = pd.read_excel('BAmaz_TCA.xlsx')\n",
    "#print(BAmaz_TCA)\n",
    "\n",
    "BAmaz_TCA_N = BAmaz_TCA.loc[BAmaz_TCA['N_LICENCIAMENTOS']==1]\n",
    "BAmaz_TCA_N.drop(['MUNICIPIO','N_LICENCIAMENTOS'], axis=1, inplace=True)\n",
    "BAmaz_TCA_N['MUNICIPIO_tca'] = Munc_BAmaz\n",
    "BAmaz_TCA_N.set_axis(['TCA', 'MUNICIPIO'], axis='columns', inplace=True)\n",
    "BAmaz_TCA_N = BAmaz_TCA_N[['MUNICIPIO','TCA']]\n",
    "BAmaz_TCA_N.to_excel (r'C:\\Users\\letic\\Documents\\Python Scripts\\PRA TCA\\BAmaz_TCA_N.xlsx', index = False, header=True)\n",
    "display(BAmaz_TCA_N)"
   ]
  },
  {
   "cell_type": "markdown",
   "id": "581fc286",
   "metadata": {},
   "source": [
    "Unir as tabelas"
   ]
  },
  {
   "cell_type": "code",
   "execution_count": 20,
   "id": "b60eba76",
   "metadata": {},
   "outputs": [
    {
     "data": {
      "text/html": [
       "<div>\n",
       "<style scoped>\n",
       "    .dataframe tbody tr th:only-of-type {\n",
       "        vertical-align: middle;\n",
       "    }\n",
       "\n",
       "    .dataframe tbody tr th {\n",
       "        vertical-align: top;\n",
       "    }\n",
       "\n",
       "    .dataframe thead th {\n",
       "        text-align: right;\n",
       "    }\n",
       "</style>\n",
       "<table border=\"1\" class=\"dataframe\">\n",
       "  <thead>\n",
       "    <tr style=\"text-align: right;\">\n",
       "      <th></th>\n",
       "      <th>MUNICIPIO</th>\n",
       "      <th>n° de Imovéis com Licencimento</th>\n",
       "      <th>TCA</th>\n",
       "    </tr>\n",
       "  </thead>\n",
       "  <tbody>\n",
       "    <tr>\n",
       "      <th>3</th>\n",
       "      <td>Alenquer</td>\n",
       "      <td>3</td>\n",
       "      <td>5</td>\n",
       "    </tr>\n",
       "    <tr>\n",
       "      <th>2</th>\n",
       "      <td>Almeirim</td>\n",
       "      <td>7</td>\n",
       "      <td>8</td>\n",
       "    </tr>\n",
       "    <tr>\n",
       "      <th>4</th>\n",
       "      <td>Belterra</td>\n",
       "      <td>1</td>\n",
       "      <td>1</td>\n",
       "    </tr>\n",
       "    <tr>\n",
       "      <th>5</th>\n",
       "      <td>Juruti</td>\n",
       "      <td>1</td>\n",
       "      <td>1</td>\n",
       "    </tr>\n",
       "    <tr>\n",
       "      <th>0</th>\n",
       "      <td>Mojuí dos Campos</td>\n",
       "      <td>14</td>\n",
       "      <td>14</td>\n",
       "    </tr>\n",
       "    <tr>\n",
       "      <th>1</th>\n",
       "      <td>Santarém</td>\n",
       "      <td>10</td>\n",
       "      <td>11</td>\n",
       "    </tr>\n",
       "    <tr>\n",
       "      <th>6</th>\n",
       "      <td>Óbidos</td>\n",
       "      <td>1</td>\n",
       "      <td>1</td>\n",
       "    </tr>\n",
       "  </tbody>\n",
       "</table>\n",
       "</div>"
      ],
      "text/plain": [
       "          MUNICIPIO  n° de Imovéis com Licencimento  TCA\n",
       "3          Alenquer                               3    5\n",
       "2          Almeirim                               7    8\n",
       "4          Belterra                               1    1\n",
       "5            Juruti                               1    1\n",
       "0  Mojuí dos Campos                              14   14\n",
       "1          Santarém                              10   11\n",
       "6            Óbidos                               1    1"
      ]
     },
     "metadata": {},
     "output_type": "display_data"
    }
   ],
   "source": [
    "BAmaz_TCA_N = pd.read_excel('BAmaz_TCA_N.xlsx')\n",
    "N_Imoveis_Licenc_BAmaz = pd.read_excel('N_Imoveis_Licenc_BAmaz.xlsx')\n",
    "\n",
    "tab_dinamica_BAmaz = N_Imoveis_Licenc_BAmaz.merge(BAmaz_TCA_N, on = \"MUNICIPIO\", how = \"left\")\n",
    "tab_dinamica_BAmaz = tab_dinamica_BAmaz.sort_values(by=['MUNICIPIO'])\n",
    "display(tab_dinamica_BAmaz)\n",
    "\n",
    "tab_dinamica_BAmaz.to_excel (r'C:\\Users\\letic\\Documents\\Python Scripts\\PRA TCA\\Resultados\\Baixo_Amazonas\\tab_dinamica_BAmaz.xlsx', \n",
    "                             index = False, header=True)"
   ]
  },
  {
   "cell_type": "markdown",
   "id": "f2bd49ac",
   "metadata": {},
   "source": [
    "Para o Diretorio não ficar poluido, foi excluido todos os arquivos .xlsx que não são são mais necesários."
   ]
  },
  {
   "cell_type": "code",
   "execution_count": 21,
   "id": "cbf70428",
   "metadata": {},
   "outputs": [],
   "source": [
    "import os\n",
    "\n",
    "if os.path.exists(\"Munic_BAmaz_NLic.xlsx\"):\n",
    "  os.remove(\"Munic_BAmaz_NLic.xlsx\")\n",
    "\n",
    "if os.path.exists(\"N_Imoveis_Licenc_BAmaz.xlsx\"):\n",
    "  os.remove(\"N_Imoveis_Licenc_BAmaz.xlsx\")\n",
    "\n",
    "if os.path.exists(\"BAmaz_TCA.xlsx\"):\n",
    "  os.remove(\"BAmaz_TCA.xlsx\")\n",
    "\n",
    "if os.path.exists(\"BAmaz_TCA_N.xlsx\"):\n",
    "  os.remove(\"BAmaz_TCA_N.xlsx\")"
   ]
  },
  {
   "cell_type": "code",
   "execution_count": null,
   "id": "ea71cb14",
   "metadata": {},
   "outputs": [],
   "source": []
  }
 ],
 "metadata": {
  "kernelspec": {
   "display_name": "Python 3 (ipykernel)",
   "language": "python",
   "name": "python3"
  },
  "language_info": {
   "codemirror_mode": {
    "name": "ipython",
    "version": 3
   },
   "file_extension": ".py",
   "mimetype": "text/x-python",
   "name": "python",
   "nbconvert_exporter": "python",
   "pygments_lexer": "ipython3",
   "version": "3.9.12"
  }
 },
 "nbformat": 4,
 "nbformat_minor": 5
}
