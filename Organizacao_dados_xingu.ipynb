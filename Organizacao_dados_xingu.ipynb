{
 "cells": [
  {
   "cell_type": "markdown",
   "id": "58bcc263",
   "metadata": {},
   "source": [
    "### TCAs do BAIXO AMAZONAS "
   ]
  },
  {
   "cell_type": "code",
   "execution_count": 1,
   "id": "1f21c534",
   "metadata": {},
   "outputs": [],
   "source": [
    "import pandas as pd"
   ]
  },
  {
   "cell_type": "markdown",
   "id": "cfb289bd",
   "metadata": {},
   "source": [
    "Solicitação da base de dados da região Baixo Amazonas: "
   ]
  },
  {
   "cell_type": "code",
   "execution_count": 2,
   "id": "e485ae38",
   "metadata": {},
   "outputs": [],
   "source": [
    "dados_xingu = pd.read_excel('Dados_XINGU.xlsx')\n",
    "#display(dados_xingu)"
   ]
  },
  {
   "cell_type": "markdown",
   "id": "7ab7fdbd",
   "metadata": {},
   "source": [
    "Criação dos arquivo de numeros de TCAs por ano do Baixo Amazonas:"
   ]
  },
  {
   "cell_type": "code",
   "execution_count": 3,
   "id": "4b2128c6",
   "metadata": {},
   "outputs": [],
   "source": [
    "ano_tca_xingu = dados_xingu.groupby(['Ano_Termo_Compromisso']).size()\n",
    "#display(ano_tca_xingu)\n",
    "ano_tca_xingu.to_excel (r'C:\\Users\\letic\\Documents\\Python Scripts\\PRA TCA\\Resultados\\XINGU\\Ano_Termo_Comp_xingu.xlsx', \n",
    "                        index = True, header=True)"
   ]
  },
  {
   "cell_type": "markdown",
   "id": "bd88173a",
   "metadata": {},
   "source": [
    "Agrupamento dos dados por número de licenciamentos por municípios:"
   ]
  },
  {
   "cell_type": "code",
   "execution_count": 5,
   "id": "1e1d3456",
   "metadata": {},
   "outputs": [
    {
     "name": "stdout",
     "output_type": "stream",
     "text": [
      "                                        n° de Imovéis com Licencimento\n",
      "MUNICIPIO             N_LICENCIAMENTOS                                \n",
      "Altamira              1                                             13\n",
      "                      0                                              4\n",
      "Anapu                 1                                              8\n",
      "Brasil Novo           1                                             16\n",
      "                      0                                              2\n",
      "Medicilândia          1                                              4\n",
      "                      0                                              1\n",
      "Pacajá                1                                              9\n",
      "                      0                                              2\n",
      "Placas                1                                             10\n",
      "                      0                                              3\n",
      "Porto de Moz          1                                              3\n",
      "Senador José Porfírio 1                                              2\n",
      "Uruará                1                                             24\n",
      "                      0                                              5\n",
      "Vitória do Xingu      1                                              8\n",
      "                      0                                              1\n"
     ]
    }
   ],
   "source": [
    "Munic_xingu_NLic = dados_xingu[['MUNICIPIO','N_LICENCIAMENTOS']].value_counts()\n",
    "Munic_xingu_NLic = pd.DataFrame(Munic_xingu_NLic, index = None)\n",
    "Munic_xingu_NLic.sort_values(by='MUNICIPIO', ascending=True)\n",
    "Munic_xingu_NLic.set_axis(['n° de Imovéis com Licencimento'], axis='columns', inplace=True)\n",
    "\n",
    "#Organizando o DataFrame por ordem alfabetica a coluna das regiões de integração: \n",
    "print(Munic_xingu_NLic.sort_values(by='MUNICIPIO', ascending=True))\n",
    "\n",
    "#Exportando para excel o DataFrame criado:\n",
    "Munic_xingu_NLic.to_excel (r'C:\\Users\\letic\\Documents\\Python Scripts\\PRA TCA\\Munic_xingu_NLic.xlsx', \n",
    "                            index = True, header=True)"
   ]
  },
  {
   "cell_type": "code",
   "execution_count": 6,
   "id": "8facf4df",
   "metadata": {},
   "outputs": [
    {
     "name": "stdout",
     "output_type": "stream",
     "text": [
      "                MUNICIPIO  N_LICENCIAMENTOS  n° de Imovéis com Licencimento\n",
      "2                Altamira                 1                              13\n",
      "9                Altamira                 0                               4\n",
      "6                   Anapu                 1                               8\n",
      "1             Brasil Novo                 1                              16\n",
      "13            Brasil Novo                 0                               2\n",
      "8            Medicilândia                 1                               4\n",
      "15           Medicilândia                 0                               1\n",
      "4                  Pacajá                 1                               9\n",
      "12                 Pacajá                 0                               2\n",
      "3                  Placas                 1                              10\n",
      "10                 Placas                 0                               3\n",
      "11           Porto de Moz                 1                               3\n",
      "14  Senador José Porfírio                 1                               2\n",
      "0                  Uruará                 1                              24\n",
      "7                  Uruará                 0                               5\n",
      "5        Vitória do Xingu                 1                               8\n",
      "16       Vitória do Xingu                 0                               1\n"
     ]
    }
   ],
   "source": [
    "xingu_NLic = pd.read_excel('Munic_xingu_NLic.xlsx')\n",
    "print(xingu_NLic.sort_values(by=['MUNICIPIO']))"
   ]
  },
  {
   "cell_type": "code",
   "execution_count": 8,
   "id": "716ab60b",
   "metadata": {},
   "outputs": [],
   "source": [
    "nImoveisLic_xingu = xingu_NLic.loc[xingu_NLic['N_LICENCIAMENTOS']==1].sort_values(by=['MUNICIPIO'])\n",
    "nImoveisLic_xingu.drop(['N_LICENCIAMENTOS'], axis=1, inplace=True)\n",
    "#print(nImoveisLic_xingu)\n",
    "\n",
    "nImoveisLic_xingu.to_excel (r'C:\\Users\\letic\\Documents\\Python Scripts\\PRA TCA\\nImoveisLic_xingu.xlsx', \n",
    "                            index = False, header=True)\n"
   ]
  },
  {
   "cell_type": "markdown",
   "id": "3604e177",
   "metadata": {},
   "source": [
    "Para saber os TCAs é necessário:"
   ]
  },
  {
   "cell_type": "code",
   "execution_count": 9,
   "id": "58df8dd4",
   "metadata": {
    "scrolled": true
   },
   "outputs": [
    {
     "name": "stdout",
     "output_type": "stream",
     "text": [
      "['Altamira', 'Anapu', 'Brasil Novo', 'Medicilândia', 'Pacajá', 'Placas', 'Porto de Moz', 'Senador José Porfírio', 'Uruará', 'Vitória do Xingu']\n",
      "<class 'list'>\n",
      "                MUNICIPIO  N_LICENCIAMENTOS  n° de Imovéis com Licencimento\n",
      "0                Altamira                 0                               4\n",
      "1                     NaN                 1                              17\n",
      "2                   Anapu                 1                               8\n",
      "3             Brasil Novo                 0                               2\n",
      "4                     NaN                 1                              18\n",
      "5            Medicilândia                 0                               1\n",
      "6                     NaN                 1                               5\n",
      "7                  Pacajá                 0                               2\n",
      "8                     NaN                 1                              11\n",
      "9                  Placas                 0                               3\n",
      "10                    NaN                 1                              13\n",
      "11           Porto de Moz                 1                               3\n",
      "12  Senador José Porfírio                 1                               2\n",
      "13                 Uruará                 0                               5\n",
      "14                    NaN                 1                              29\n",
      "15       Vitória do Xingu                 0                               1\n",
      "16                    NaN                 1                               9\n"
     ]
    },
    {
     "name": "stderr",
     "output_type": "stream",
     "text": [
      "C:\\Users\\letic\\AppData\\Local\\Temp\\ipykernel_9804\\3441032013.py:15: SettingWithCopyWarning: \n",
      "A value is trying to be set on a copy of a slice from a DataFrame\n",
      "\n",
      "See the caveats in the documentation: https://pandas.pydata.org/pandas-docs/stable/user_guide/indexing.html#returning-a-view-versus-a-copy\n",
      "  xingu_TCA_N.drop(['MUNICIPIO','N_LICENCIAMENTOS'], axis=1, inplace=True)\n",
      "C:\\Users\\letic\\AppData\\Local\\Temp\\ipykernel_9804\\3441032013.py:16: SettingWithCopyWarning: \n",
      "A value is trying to be set on a copy of a slice from a DataFrame.\n",
      "Try using .loc[row_indexer,col_indexer] = value instead\n",
      "\n",
      "See the caveats in the documentation: https://pandas.pydata.org/pandas-docs/stable/user_guide/indexing.html#returning-a-view-versus-a-copy\n",
      "  xingu_TCA_N['MUNICIPIO_tca'] = Munc_xingu\n"
     ]
    },
    {
     "data": {
      "text/html": [
       "<div>\n",
       "<style scoped>\n",
       "    .dataframe tbody tr th:only-of-type {\n",
       "        vertical-align: middle;\n",
       "    }\n",
       "\n",
       "    .dataframe tbody tr th {\n",
       "        vertical-align: top;\n",
       "    }\n",
       "\n",
       "    .dataframe thead th {\n",
       "        text-align: right;\n",
       "    }\n",
       "</style>\n",
       "<table border=\"1\" class=\"dataframe\">\n",
       "  <thead>\n",
       "    <tr style=\"text-align: right;\">\n",
       "      <th></th>\n",
       "      <th>MUNICIPIO</th>\n",
       "      <th>TCA</th>\n",
       "    </tr>\n",
       "  </thead>\n",
       "  <tbody>\n",
       "    <tr>\n",
       "      <th>1</th>\n",
       "      <td>Altamira</td>\n",
       "      <td>17</td>\n",
       "    </tr>\n",
       "    <tr>\n",
       "      <th>2</th>\n",
       "      <td>Anapu</td>\n",
       "      <td>8</td>\n",
       "    </tr>\n",
       "    <tr>\n",
       "      <th>4</th>\n",
       "      <td>Brasil Novo</td>\n",
       "      <td>18</td>\n",
       "    </tr>\n",
       "    <tr>\n",
       "      <th>6</th>\n",
       "      <td>Medicilândia</td>\n",
       "      <td>5</td>\n",
       "    </tr>\n",
       "    <tr>\n",
       "      <th>8</th>\n",
       "      <td>Pacajá</td>\n",
       "      <td>11</td>\n",
       "    </tr>\n",
       "    <tr>\n",
       "      <th>10</th>\n",
       "      <td>Placas</td>\n",
       "      <td>13</td>\n",
       "    </tr>\n",
       "    <tr>\n",
       "      <th>11</th>\n",
       "      <td>Porto de Moz</td>\n",
       "      <td>3</td>\n",
       "    </tr>\n",
       "    <tr>\n",
       "      <th>12</th>\n",
       "      <td>Senador José Porfírio</td>\n",
       "      <td>2</td>\n",
       "    </tr>\n",
       "    <tr>\n",
       "      <th>14</th>\n",
       "      <td>Uruará</td>\n",
       "      <td>29</td>\n",
       "    </tr>\n",
       "    <tr>\n",
       "      <th>16</th>\n",
       "      <td>Vitória do Xingu</td>\n",
       "      <td>9</td>\n",
       "    </tr>\n",
       "  </tbody>\n",
       "</table>\n",
       "</div>"
      ],
      "text/plain": [
       "                MUNICIPIO  TCA\n",
       "1                Altamira   17\n",
       "2                   Anapu    8\n",
       "4             Brasil Novo   18\n",
       "6            Medicilândia    5\n",
       "8                  Pacajá   11\n",
       "10                 Placas   13\n",
       "11           Porto de Moz    3\n",
       "12  Senador José Porfírio    2\n",
       "14                 Uruará   29\n",
       "16       Vitória do Xingu    9"
      ]
     },
     "metadata": {},
     "output_type": "display_data"
    }
   ],
   "source": [
    "xingu_TCA = xingu_NLic.groupby(by=['MUNICIPIO','N_LICENCIAMENTOS']).sum().groupby(level=[0]).cumsum()\n",
    "\n",
    "Munc_xingu = xingu_NLic.loc[xingu_NLic['N_LICENCIAMENTOS']==1, ['MUNICIPIO']]\n",
    "Munc_xingu = Munc_xingu.sort_values(by=['MUNICIPIO'])\n",
    "Munc_xingu = Munc_xingu['MUNICIPIO'].tolist()\n",
    "print(Munc_xingu)\n",
    "print(type(Munc_xingu))\n",
    "\n",
    "xingu_TCA.to_excel (r'C:\\Users\\letic\\Documents\\Python Scripts\\PRA TCA\\xingu_TCA.xlsx', index = True, header=True)\n",
    "\n",
    "xingu_TCA = pd.read_excel('xingu_TCA.xlsx')\n",
    "print(xingu_TCA)\n",
    "\n",
    "xingu_TCA_N = xingu_TCA.loc[xingu_TCA['N_LICENCIAMENTOS']==1]\n",
    "xingu_TCA_N.drop(['MUNICIPIO','N_LICENCIAMENTOS'], axis=1, inplace=True)\n",
    "xingu_TCA_N['MUNICIPIO_tca'] = Munc_xingu\n",
    "xingu_TCA_N.set_axis(['TCA', 'MUNICIPIO'], axis='columns', inplace=True)\n",
    "xingu_TCA_N = xingu_TCA_N[['MUNICIPIO','TCA']]\n",
    "xingu_TCA_N.to_excel (r'C:\\Users\\letic\\Documents\\Python Scripts\\PRA TCA\\xingu_TCA_N.xlsx', index = False, header=True)\n",
    "display(xingu_TCA_N)"
   ]
  },
  {
   "cell_type": "markdown",
   "id": "581fc286",
   "metadata": {},
   "source": [
    "Unir as tabelas"
   ]
  },
  {
   "cell_type": "code",
   "execution_count": 10,
   "id": "b60eba76",
   "metadata": {},
   "outputs": [
    {
     "data": {
      "text/html": [
       "<div>\n",
       "<style scoped>\n",
       "    .dataframe tbody tr th:only-of-type {\n",
       "        vertical-align: middle;\n",
       "    }\n",
       "\n",
       "    .dataframe tbody tr th {\n",
       "        vertical-align: top;\n",
       "    }\n",
       "\n",
       "    .dataframe thead th {\n",
       "        text-align: right;\n",
       "    }\n",
       "</style>\n",
       "<table border=\"1\" class=\"dataframe\">\n",
       "  <thead>\n",
       "    <tr style=\"text-align: right;\">\n",
       "      <th></th>\n",
       "      <th>MUNICIPIO</th>\n",
       "      <th>n° de Imovéis com Licencimento</th>\n",
       "      <th>TCA</th>\n",
       "    </tr>\n",
       "  </thead>\n",
       "  <tbody>\n",
       "    <tr>\n",
       "      <th>0</th>\n",
       "      <td>Altamira</td>\n",
       "      <td>13</td>\n",
       "      <td>17</td>\n",
       "    </tr>\n",
       "    <tr>\n",
       "      <th>1</th>\n",
       "      <td>Anapu</td>\n",
       "      <td>8</td>\n",
       "      <td>8</td>\n",
       "    </tr>\n",
       "    <tr>\n",
       "      <th>2</th>\n",
       "      <td>Brasil Novo</td>\n",
       "      <td>16</td>\n",
       "      <td>18</td>\n",
       "    </tr>\n",
       "    <tr>\n",
       "      <th>3</th>\n",
       "      <td>Medicilândia</td>\n",
       "      <td>4</td>\n",
       "      <td>5</td>\n",
       "    </tr>\n",
       "    <tr>\n",
       "      <th>4</th>\n",
       "      <td>Pacajá</td>\n",
       "      <td>9</td>\n",
       "      <td>11</td>\n",
       "    </tr>\n",
       "    <tr>\n",
       "      <th>5</th>\n",
       "      <td>Placas</td>\n",
       "      <td>10</td>\n",
       "      <td>13</td>\n",
       "    </tr>\n",
       "    <tr>\n",
       "      <th>6</th>\n",
       "      <td>Porto de Moz</td>\n",
       "      <td>3</td>\n",
       "      <td>3</td>\n",
       "    </tr>\n",
       "    <tr>\n",
       "      <th>7</th>\n",
       "      <td>Senador José Porfírio</td>\n",
       "      <td>2</td>\n",
       "      <td>2</td>\n",
       "    </tr>\n",
       "    <tr>\n",
       "      <th>8</th>\n",
       "      <td>Uruará</td>\n",
       "      <td>24</td>\n",
       "      <td>29</td>\n",
       "    </tr>\n",
       "    <tr>\n",
       "      <th>9</th>\n",
       "      <td>Vitória do Xingu</td>\n",
       "      <td>8</td>\n",
       "      <td>9</td>\n",
       "    </tr>\n",
       "  </tbody>\n",
       "</table>\n",
       "</div>"
      ],
      "text/plain": [
       "               MUNICIPIO  n° de Imovéis com Licencimento  TCA\n",
       "0               Altamira                              13   17\n",
       "1                  Anapu                               8    8\n",
       "2            Brasil Novo                              16   18\n",
       "3           Medicilândia                               4    5\n",
       "4                 Pacajá                               9   11\n",
       "5                 Placas                              10   13\n",
       "6           Porto de Moz                               3    3\n",
       "7  Senador José Porfírio                               2    2\n",
       "8                 Uruará                              24   29\n",
       "9       Vitória do Xingu                               8    9"
      ]
     },
     "metadata": {},
     "output_type": "display_data"
    }
   ],
   "source": [
    "xingu_TCA_N = pd.read_excel('xingu_TCA_N.xlsx')\n",
    "N_Imoveis_Licenc_xingu = pd.read_excel('nImoveisLic_xingu.xlsx')\n",
    "\n",
    "tab_dinamica_xingu = N_Imoveis_Licenc_xingu.merge(xingu_TCA_N, on = \"MUNICIPIO\", how = \"left\")\n",
    "tab_dinamica_xingu = tab_dinamica_xingu.sort_values(by=['MUNICIPIO'])\n",
    "display(tab_dinamica_xingu)\n",
    "\n",
    "tab_dinamica_xingu.to_excel (r'C:\\Users\\letic\\Documents\\Python Scripts\\PRA TCA\\Resultados\\XINGU\\tab_dinamica_xingu.xlsx', \n",
    "                             index = False, header=True)"
   ]
  },
  {
   "cell_type": "markdown",
   "id": "f2bd49ac",
   "metadata": {},
   "source": [
    "Para o Diretorio não ficar poluido, foi excluido todos os arquivos .xlsx que não são são mais necesários."
   ]
  },
  {
   "cell_type": "code",
   "execution_count": 11,
   "id": "cbf70428",
   "metadata": {},
   "outputs": [],
   "source": [
    "import os\n",
    "\n",
    "if os.path.exists(\"Munic_xingu_NLic.xlsx\"):\n",
    "  os.remove(\"Munic_xingu_NLic.xlsx\")\n",
    "\n",
    "if os.path.exists(\"nImoveisLic_xingu.xlsx\"):\n",
    "  os.remove(\"nImoveisLic_xingu.xlsx\")\n",
    "\n",
    "if os.path.exists(\"xingu_TCA.xlsx\"):\n",
    "  os.remove(\"xingu_TCA.xlsx\")\n",
    "\n",
    "if os.path.exists(\"xingu_TCA_N.xlsx\"):\n",
    "  os.remove(\"xingu_TCA_N.xlsx\")"
   ]
  },
  {
   "cell_type": "code",
   "execution_count": null,
   "id": "ea71cb14",
   "metadata": {},
   "outputs": [],
   "source": []
  }
 ],
 "metadata": {
  "kernelspec": {
   "display_name": "Python 3 (ipykernel)",
   "language": "python",
   "name": "python3"
  },
  "language_info": {
   "codemirror_mode": {
    "name": "ipython",
    "version": 3
   },
   "file_extension": ".py",
   "mimetype": "text/x-python",
   "name": "python",
   "nbconvert_exporter": "python",
   "pygments_lexer": "ipython3",
   "version": "3.9.12"
  }
 },
 "nbformat": 4,
 "nbformat_minor": 5
}
