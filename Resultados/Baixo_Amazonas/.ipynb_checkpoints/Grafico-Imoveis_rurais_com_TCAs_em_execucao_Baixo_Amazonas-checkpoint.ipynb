{
 "cells": [
  {
   "cell_type": "code",
   "execution_count": null,
   "id": "9e8ec444",
   "metadata": {},
   "outputs": [],
   "source": [
    "#Imóveis rurais com TCAs em execução\n",
    "import pandas as pd\n",
    "import plotly.express as px\n",
    "\n",
    "data = pd.read_excel('Ano_Termo_Comp_BAmaz.xlsx', engine='openpyxl')\n",
    "\n",
    "fig = px.bar(data , x='Ano do Termo Compromisso', y='Quantitativo de TCA', \n",
    "             title = \"Imóveis rurais com TCAs em execução na região de integração Baixo Amazonas\")\n",
    "fig.update_yaxes(title = \"TCAs\")\n",
    "fig.update_xaxes(title = \"Ano\")\n",
    "fig.show()"
   ]
  },
  {
   "cell_type": "code",
   "execution_count": null,
   "id": "ad001198",
   "metadata": {},
   "outputs": [],
   "source": []
  }
 ],
 "metadata": {
  "kernelspec": {
   "display_name": "Python 3 (ipykernel)",
   "language": "python",
   "name": "python3"
  },
  "language_info": {
   "codemirror_mode": {
    "name": "ipython",
    "version": 3
   },
   "file_extension": ".py",
   "mimetype": "text/x-python",
   "name": "python",
   "nbconvert_exporter": "python",
   "pygments_lexer": "ipython3",
   "version": "3.9.12"
  }
 },
 "nbformat": 4,
 "nbformat_minor": 5
}
