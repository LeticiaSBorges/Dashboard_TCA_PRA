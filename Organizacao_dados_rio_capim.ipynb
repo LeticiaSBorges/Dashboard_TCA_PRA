{
 "cells": [
  {
   "cell_type": "markdown",
   "id": "58bcc263",
   "metadata": {},
   "source": [
    "### TCAs do BAIXO AMAZONAS "
   ]
  },
  {
   "cell_type": "code",
   "execution_count": 1,
   "id": "1f21c534",
   "metadata": {},
   "outputs": [],
   "source": [
    "import pandas as pd"
   ]
  },
  {
   "cell_type": "markdown",
   "id": "cfb289bd",
   "metadata": {},
   "source": [
    "Solicitação da base de dados da região Baixo Amazonas: "
   ]
  },
  {
   "cell_type": "code",
   "execution_count": 3,
   "id": "e485ae38",
   "metadata": {},
   "outputs": [],
   "source": [
    "dados_RCapim = pd.read_excel('Dados_RIO_CAPIM.xlsx')\n",
    "#display(dados_RCapim)"
   ]
  },
  {
   "cell_type": "markdown",
   "id": "7ab7fdbd",
   "metadata": {},
   "source": [
    "Criação dos arquivo de numeros de TCAs por ano do Baixo Amazonas:"
   ]
  },
  {
   "cell_type": "code",
   "execution_count": 8,
   "id": "4b2128c6",
   "metadata": {},
   "outputs": [],
   "source": [
    "ano_tca_RCapim = dados_RCapim.groupby(['Ano_Termo_Compromisso']).size()\n",
    "#display(ano_tca_RCapim)\n",
    "ano_tca_RCapim.to_excel (r'C:\\Users\\letic\\Documents\\Python Scripts\\PRA TCA\\Resultados\\RIO_CAPIM\\Ano_Termo_Comp_RCapim.xlsx', \n",
    "                        index = True, header=True)"
   ]
  },
  {
   "cell_type": "markdown",
   "id": "bd88173a",
   "metadata": {},
   "source": [
    "Agrupamento dos dados por número de licenciamentos por municípios:"
   ]
  },
  {
   "cell_type": "code",
   "execution_count": 5,
   "id": "1e1d3456",
   "metadata": {},
   "outputs": [
    {
     "name": "stdout",
     "output_type": "stream",
     "text": [
      "                                          n° de Imovéis com Licencimento\n",
      "MUNICIPIO               N_LICENCIAMENTOS                                \n",
      "Aurora do Pará          1                                              2\n",
      "Capitão Poço            1                                              3\n",
      "Dom Eliseu              1                                              8\n",
      "                        0                                              4\n",
      "Ipixuna do Pará         1                                              8\n",
      "                        0                                              1\n",
      "Nova Esperança do Piriá 1                                              4\n",
      "Paragominas             1                                             18\n",
      "                        0                                              5\n",
      "Rondon do Pará          0                                              5\n",
      "                        1                                              3\n",
      "Tomé-Açu                1                                              6\n",
      "                        0                                              5\n",
      "Ulianópolis             0                                              1\n",
      "                        1                                              1\n"
     ]
    }
   ],
   "source": [
    "Munic_RCapim_NLic = dados_RCapim[['MUNICIPIO','N_LICENCIAMENTOS']].value_counts()\n",
    "Munic_RCapim_NLic = pd.DataFrame(Munic_RCapim_NLic, index = None)\n",
    "Munic_RCapim_NLic.sort_values(by='MUNICIPIO', ascending=True)\n",
    "Munic_RCapim_NLic.set_axis(['n° de Imovéis com Licencimento'], axis='columns', inplace=True)\n",
    "\n",
    "#Organizando o DataFrame por ordem alfabetica a coluna das regiões de integração: \n",
    "print(Munic_RCapim_NLic.sort_values(by='MUNICIPIO', ascending=True))\n",
    "\n",
    "#Exportando para excel o DataFrame criado:\n",
    "Munic_RCapim_NLic.to_excel (r'C:\\Users\\letic\\Documents\\Python Scripts\\PRA TCA\\Munic_RCapim_NLic.xlsx', \n",
    "                            index = True, header=True)"
   ]
  },
  {
   "cell_type": "code",
   "execution_count": 15,
   "id": "8facf4df",
   "metadata": {},
   "outputs": [
    {
     "name": "stdout",
     "output_type": "stream",
     "text": [
      "                  MUNICIPIO  N_LICENCIAMENTOS  n° de Imovéis com Licencimento\n",
      "11           Aurora do Pará                 1                               2\n",
      "9              Capitão Poço                 1                               3\n",
      "1                Dom Eliseu                 1                               8\n",
      "7                Dom Eliseu                 0                               4\n",
      "2           Ipixuna do Pará                 1                               8\n",
      "12          Ipixuna do Pará                 0                               1\n",
      "8   Nova Esperança do Piriá                 1                               4\n",
      "0               Paragominas                 1                              18\n",
      "4               Paragominas                 0                               5\n",
      "5            Rondon do Pará                 0                               5\n",
      "10           Rondon do Pará                 1                               3\n",
      "3                  Tomé-Açu                 1                               6\n",
      "6                  Tomé-Açu                 0                               5\n",
      "13              Ulianópolis                 0                               1\n",
      "14              Ulianópolis                 1                               1\n"
     ]
    }
   ],
   "source": [
    "RCapim_NLic = pd.read_excel('Munic_RCapim_NLic.xlsx')\n",
    "RCapim_NLic = RCapim_NLic.fillna('Ulianópolis')\n",
    "print(RCapim_NLic.sort_values(by=['MUNICIPIO']))"
   ]
  },
  {
   "cell_type": "code",
   "execution_count": 25,
   "id": "716ab60b",
   "metadata": {},
   "outputs": [],
   "source": [
    "nImoveisLic_RCapim = RCapim_NLic.loc[RCapim_NLic['N_LICENCIAMENTOS']==1].sort_values(by=['MUNICIPIO'])\n",
    "nImoveisLic_RCapim.drop(['N_LICENCIAMENTOS'], axis=1, inplace=True)\n",
    "#print(nImoveisLic_RCapim)\n",
    "\n",
    "nImoveisLic_RCapim.to_excel (r'C:\\Users\\letic\\Documents\\Python Scripts\\PRA TCA\\nImoveisLic_RCapim.xlsx', \n",
    "                            index = False, header=True)\n"
   ]
  },
  {
   "cell_type": "markdown",
   "id": "3604e177",
   "metadata": {},
   "source": [
    "Para saber os TCAs é necessário:"
   ]
  },
  {
   "cell_type": "code",
   "execution_count": 34,
   "id": "58df8dd4",
   "metadata": {
    "scrolled": true
   },
   "outputs": [
    {
     "name": "stdout",
     "output_type": "stream",
     "text": [
      "['Aurora do Pará', 'Capitão Poço', 'Dom Eliseu', 'Ipixuna do Pará', 'Nova Esperança do Piriá', 'Paragominas', 'Rondon do Pará', 'Tomé-Açu', 'Ulianópolis']\n",
      "<class 'list'>\n"
     ]
    },
    {
     "name": "stderr",
     "output_type": "stream",
     "text": [
      "C:\\Users\\letic\\AppData\\Local\\Temp\\ipykernel_576\\2289171475.py:17: SettingWithCopyWarning: \n",
      "A value is trying to be set on a copy of a slice from a DataFrame\n",
      "\n",
      "See the caveats in the documentation: https://pandas.pydata.org/pandas-docs/stable/user_guide/indexing.html#returning-a-view-versus-a-copy\n",
      "  RCapim_TCA_N.drop(['MUNICIPIO','N_LICENCIAMENTOS'], axis=1, inplace=True)\n",
      "C:\\Users\\letic\\AppData\\Local\\Temp\\ipykernel_576\\2289171475.py:18: SettingWithCopyWarning: \n",
      "A value is trying to be set on a copy of a slice from a DataFrame.\n",
      "Try using .loc[row_indexer,col_indexer] = value instead\n",
      "\n",
      "See the caveats in the documentation: https://pandas.pydata.org/pandas-docs/stable/user_guide/indexing.html#returning-a-view-versus-a-copy\n",
      "  RCapim_TCA_N['MUNICIPIO_tca'] = Munc_RCapim\n"
     ]
    },
    {
     "data": {
      "text/html": [
       "<div>\n",
       "<style scoped>\n",
       "    .dataframe tbody tr th:only-of-type {\n",
       "        vertical-align: middle;\n",
       "    }\n",
       "\n",
       "    .dataframe tbody tr th {\n",
       "        vertical-align: top;\n",
       "    }\n",
       "\n",
       "    .dataframe thead th {\n",
       "        text-align: right;\n",
       "    }\n",
       "</style>\n",
       "<table border=\"1\" class=\"dataframe\">\n",
       "  <thead>\n",
       "    <tr style=\"text-align: right;\">\n",
       "      <th></th>\n",
       "      <th>MUNICIPIO</th>\n",
       "      <th>TCA</th>\n",
       "    </tr>\n",
       "  </thead>\n",
       "  <tbody>\n",
       "    <tr>\n",
       "      <th>0</th>\n",
       "      <td>Aurora do Pará</td>\n",
       "      <td>2</td>\n",
       "    </tr>\n",
       "    <tr>\n",
       "      <th>1</th>\n",
       "      <td>Capitão Poço</td>\n",
       "      <td>3</td>\n",
       "    </tr>\n",
       "    <tr>\n",
       "      <th>3</th>\n",
       "      <td>Dom Eliseu</td>\n",
       "      <td>12</td>\n",
       "    </tr>\n",
       "    <tr>\n",
       "      <th>5</th>\n",
       "      <td>Ipixuna do Pará</td>\n",
       "      <td>9</td>\n",
       "    </tr>\n",
       "    <tr>\n",
       "      <th>6</th>\n",
       "      <td>Nova Esperança do Piriá</td>\n",
       "      <td>4</td>\n",
       "    </tr>\n",
       "    <tr>\n",
       "      <th>8</th>\n",
       "      <td>Paragominas</td>\n",
       "      <td>23</td>\n",
       "    </tr>\n",
       "    <tr>\n",
       "      <th>10</th>\n",
       "      <td>Rondon do Pará</td>\n",
       "      <td>8</td>\n",
       "    </tr>\n",
       "    <tr>\n",
       "      <th>12</th>\n",
       "      <td>Tomé-Açu</td>\n",
       "      <td>11</td>\n",
       "    </tr>\n",
       "    <tr>\n",
       "      <th>14</th>\n",
       "      <td>Ulianópolis</td>\n",
       "      <td>2</td>\n",
       "    </tr>\n",
       "  </tbody>\n",
       "</table>\n",
       "</div>"
      ],
      "text/plain": [
       "                  MUNICIPIO  TCA\n",
       "0            Aurora do Pará    2\n",
       "1              Capitão Poço    3\n",
       "3                Dom Eliseu   12\n",
       "5           Ipixuna do Pará    9\n",
       "6   Nova Esperança do Piriá    4\n",
       "8               Paragominas   23\n",
       "10           Rondon do Pará    8\n",
       "12                 Tomé-Açu   11\n",
       "14              Ulianópolis    2"
      ]
     },
     "metadata": {},
     "output_type": "display_data"
    }
   ],
   "source": [
    "RCapim_TCA = RCapim_NLic.groupby(by=['MUNICIPIO','N_LICENCIAMENTOS']).sum().groupby(level=[0]).cumsum()\n",
    "#print(tabTCA)\n",
    "\n",
    "\n",
    "Munc_RCapim = RCapim_NLic.loc[RCapim_NLic['N_LICENCIAMENTOS']==1, ['MUNICIPIO']]\n",
    "Munc_RCapim = Munc_RCapim.sort_values(by=['MUNICIPIO'])\n",
    "Munc_RCapim = Munc_RCapim ['MUNICIPIO'].tolist()\n",
    "print(Munc_RCapim)\n",
    "print(type(Munc_RCapim))\n",
    "\n",
    "#RCapim_TCA.to_excel (r'C:\\Users\\letic\\Documents\\Python Scripts\\PRA TCA\\RCapim_TCA.xlsx', index = True, header=True)\n",
    "\n",
    "RCapim_TCA = pd.read_excel('RCapim_TCA.xlsx')\n",
    "#print(RCapim_TCA)\n",
    "\n",
    "RCapim_TCA_N = RCapim_TCA.loc[RCapim_TCA['N_LICENCIAMENTOS']==1]\n",
    "RCapim_TCA_N.drop(['MUNICIPIO','N_LICENCIAMENTOS'], axis=1, inplace=True)\n",
    "RCapim_TCA_N['MUNICIPIO_tca'] = Munc_RCapim\n",
    "RCapim_TCA_N.set_axis(['TCA', 'MUNICIPIO'], axis='columns', inplace=True)\n",
    "RCapim_TCA_N = RCapim_TCA_N[['MUNICIPIO','TCA']]\n",
    "RCapim_TCA_N.to_excel (r'C:\\Users\\letic\\Documents\\Python Scripts\\PRA TCA\\RCapim_TCA_N.xlsx', index = False, header=True)\n",
    "display(RCapim_TCA_N)"
   ]
  },
  {
   "cell_type": "markdown",
   "id": "581fc286",
   "metadata": {},
   "source": [
    "Unir as tabelas"
   ]
  },
  {
   "cell_type": "code",
   "execution_count": 37,
   "id": "b60eba76",
   "metadata": {},
   "outputs": [
    {
     "data": {
      "text/html": [
       "<div>\n",
       "<style scoped>\n",
       "    .dataframe tbody tr th:only-of-type {\n",
       "        vertical-align: middle;\n",
       "    }\n",
       "\n",
       "    .dataframe tbody tr th {\n",
       "        vertical-align: top;\n",
       "    }\n",
       "\n",
       "    .dataframe thead th {\n",
       "        text-align: right;\n",
       "    }\n",
       "</style>\n",
       "<table border=\"1\" class=\"dataframe\">\n",
       "  <thead>\n",
       "    <tr style=\"text-align: right;\">\n",
       "      <th></th>\n",
       "      <th>MUNICIPIO</th>\n",
       "      <th>n° de Imovéis com Licencimento</th>\n",
       "      <th>TCA</th>\n",
       "    </tr>\n",
       "  </thead>\n",
       "  <tbody>\n",
       "    <tr>\n",
       "      <th>0</th>\n",
       "      <td>Aurora do Pará</td>\n",
       "      <td>2</td>\n",
       "      <td>2</td>\n",
       "    </tr>\n",
       "    <tr>\n",
       "      <th>1</th>\n",
       "      <td>Capitão Poço</td>\n",
       "      <td>3</td>\n",
       "      <td>3</td>\n",
       "    </tr>\n",
       "    <tr>\n",
       "      <th>2</th>\n",
       "      <td>Dom Eliseu</td>\n",
       "      <td>8</td>\n",
       "      <td>12</td>\n",
       "    </tr>\n",
       "    <tr>\n",
       "      <th>3</th>\n",
       "      <td>Ipixuna do Pará</td>\n",
       "      <td>8</td>\n",
       "      <td>9</td>\n",
       "    </tr>\n",
       "    <tr>\n",
       "      <th>4</th>\n",
       "      <td>Nova Esperança do Piriá</td>\n",
       "      <td>4</td>\n",
       "      <td>4</td>\n",
       "    </tr>\n",
       "    <tr>\n",
       "      <th>5</th>\n",
       "      <td>Paragominas</td>\n",
       "      <td>18</td>\n",
       "      <td>23</td>\n",
       "    </tr>\n",
       "    <tr>\n",
       "      <th>6</th>\n",
       "      <td>Rondon do Pará</td>\n",
       "      <td>3</td>\n",
       "      <td>8</td>\n",
       "    </tr>\n",
       "    <tr>\n",
       "      <th>7</th>\n",
       "      <td>Tomé-Açu</td>\n",
       "      <td>6</td>\n",
       "      <td>11</td>\n",
       "    </tr>\n",
       "    <tr>\n",
       "      <th>8</th>\n",
       "      <td>Ulianópolis</td>\n",
       "      <td>1</td>\n",
       "      <td>2</td>\n",
       "    </tr>\n",
       "  </tbody>\n",
       "</table>\n",
       "</div>"
      ],
      "text/plain": [
       "                 MUNICIPIO  n° de Imovéis com Licencimento  TCA\n",
       "0           Aurora do Pará                               2    2\n",
       "1             Capitão Poço                               3    3\n",
       "2               Dom Eliseu                               8   12\n",
       "3          Ipixuna do Pará                               8    9\n",
       "4  Nova Esperança do Piriá                               4    4\n",
       "5              Paragominas                              18   23\n",
       "6           Rondon do Pará                               3    8\n",
       "7                 Tomé-Açu                               6   11\n",
       "8              Ulianópolis                               1    2"
      ]
     },
     "metadata": {},
     "output_type": "display_data"
    }
   ],
   "source": [
    "RCapim_TCA_N = pd.read_excel('RCapim_TCA_N.xlsx')\n",
    "N_Imoveis_Licenc_RCapim = pd.read_excel('nImoveisLic_RCapim.xlsx')\n",
    "\n",
    "tab_dinamica_RCapim = N_Imoveis_Licenc_RCapim.merge(RCapim_TCA_N, on = \"MUNICIPIO\", how = \"left\")\n",
    "tab_dinamica_RCapim = tab_dinamica_RCapim.sort_values(by=['MUNICIPIO'])\n",
    "display(tab_dinamica_RCapim)\n",
    "\n",
    "tab_dinamica_RCapim.to_excel (r'C:\\Users\\letic\\Documents\\Python Scripts\\PRA TCA\\Resultados\\RIO_CAPIM\\tab_dinamica_RCapim.xlsx', \n",
    "                             index = False, header=True)"
   ]
  },
  {
   "cell_type": "markdown",
   "id": "f2bd49ac",
   "metadata": {},
   "source": [
    "Para o Diretorio não ficar poluido, foi excluido todos os arquivos .xlsx que não são são mais necesários."
   ]
  },
  {
   "cell_type": "code",
   "execution_count": 38,
   "id": "cbf70428",
   "metadata": {},
   "outputs": [],
   "source": [
    "import os\n",
    "\n",
    "if os.path.exists(\"Munic_RCapim_NLic.xlsx\"):\n",
    "  os.remove(\"Munic_RCapim_NLic.xlsx\")\n",
    "\n",
    "if os.path.exists(\"nImoveisLic_RCapim.xlsx\"):\n",
    "  os.remove(\"nImoveisLic_RCapim.xlsx\")\n",
    "\n",
    "if os.path.exists(\"RCapim_TCA.xlsx\"):\n",
    "  os.remove(\"RCapim_TCA.xlsx\")\n",
    "\n",
    "if os.path.exists(\"RCapim_TCA_N.xlsx\"):\n",
    "  os.remove(\"RCapim_TCA_N.xlsx\")"
   ]
  },
  {
   "cell_type": "code",
   "execution_count": null,
   "id": "ea71cb14",
   "metadata": {},
   "outputs": [],
   "source": []
  }
 ],
 "metadata": {
  "kernelspec": {
   "display_name": "Python 3 (ipykernel)",
   "language": "python",
   "name": "python3"
  },
  "language_info": {
   "codemirror_mode": {
    "name": "ipython",
    "version": 3
   },
   "file_extension": ".py",
   "mimetype": "text/x-python",
   "name": "python",
   "nbconvert_exporter": "python",
   "pygments_lexer": "ipython3",
   "version": "3.9.12"
  }
 },
 "nbformat": 4,
 "nbformat_minor": 5
}
