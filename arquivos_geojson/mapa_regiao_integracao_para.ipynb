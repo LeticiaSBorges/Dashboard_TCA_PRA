{
 "cells": [
  {
   "cell_type": "markdown",
   "id": "dcce227b",
   "metadata": {},
   "source": [
    "### Criação do Mapa da Região de Integração no Estado do Pará"
   ]
  },
  {
   "cell_type": "markdown",
   "id": "6def4497",
   "metadata": {},
   "source": [
    "**Solicitação do arquivo *.geojson* com os dados georeferenciados**\n",
    "\n",
    "**Etapas:**"
   ]
  },
  {
   "cell_type": "markdown",
   "id": "5e694216",
   "metadata": {},
   "source": [
    "1 - Solicitação dos dados *.geojson* hospetado no github:"
   ]
  },
  {
   "cell_type": "code",
   "execution_count": null,
   "id": "87557268",
   "metadata": {},
   "outputs": [],
   "source": []
  }
 ],
 "metadata": {
  "kernelspec": {
   "display_name": "Python 3 (ipykernel)",
   "language": "python",
   "name": "python3"
  },
  "language_info": {
   "codemirror_mode": {
    "name": "ipython",
    "version": 3
   },
   "file_extension": ".py",
   "mimetype": "text/x-python",
   "name": "python",
   "nbconvert_exporter": "python",
   "pygments_lexer": "ipython3",
   "version": "3.9.12"
  }
 },
 "nbformat": 4,
 "nbformat_minor": 5
}
